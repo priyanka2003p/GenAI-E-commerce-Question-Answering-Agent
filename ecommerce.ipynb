{
 "cells": [
  {
   "cell_type": "code",
   "execution_count": 2,
   "id": "1b2ad450-a191-4e67-a9f2-7354dc7ddeb4",
   "metadata": {},
   "outputs": [
    {
     "name": "stdout",
     "output_type": "stream",
     "text": [
      "✅ Database created successfully at db/ecommerce.db\n"
     ]
    }
   ],
   "source": [
    "import pandas as pd\n",
    "import sqlite3\n",
    "\n",
    "# Step 1: Connect to the database (or create it if it doesn't exist)\n",
    "conn = sqlite3.connect(\"db/ecommerce.db\")  # Make sure your \"db/\" folder exists\n",
    "\n",
    "# Step 2: Load your CSV files from the data folder\n",
    "ad_sales = pd.read_csv(\"data/ad_sales.csv\")\n",
    "total_sales = pd.read_csv(\"data/total_sales.csv\")\n",
    "eligibility = pd.read_csv(\"data/eligibility.csv\")\n",
    "\n",
    "# Step 3: Save DataFrames as SQL tables\n",
    "ad_sales.to_sql(\"AdSales\", conn, if_exists=\"replace\", index=False)\n",
    "total_sales.to_sql(\"TotalSales\", conn, if_exists=\"replace\", index=False)\n",
    "eligibility.to_sql(\"Eligibility\", conn, if_exists=\"replace\", index=False)\n",
    "\n",
    "# Step 4: Close the DB connection\n",
    "conn.close()\n",
    "\n",
    "print(\"✅ Database created successfully at db/ecommerce.db\")\n"
   ]
  },
  {
   "cell_type": "code",
   "execution_count": 3,
   "id": "1f6c1f31-1b1a-4380-a42f-271c4a7fc985",
   "metadata": {},
   "outputs": [
    {
     "data": {
      "text/plain": [
       "[('2025-06-01', 0, 332.96, 1963, 16.87, 8, 3),\n",
       " ('2025-06-01', 1, 0.0, 1764, 20.39, 11, 0),\n",
       " ('2025-06-01', 2, 95.99, 169, 0.48, 0, 1),\n",
       " ('2025-06-01', 3, 1001.93, 6943, 75.69, 31, 9),\n",
       " ('2025-06-01', 4, 1096.98, 59046, 401.39, 285, 5)]"
      ]
     },
     "execution_count": 3,
     "metadata": {},
     "output_type": "execute_result"
    }
   ],
   "source": [
    "# Test: Query from the DB\n",
    "conn = sqlite3.connect(\"db/ecommerce.db\")\n",
    "result = conn.execute(\"SELECT * FROM AdSales LIMIT 5\").fetchall()\n",
    "conn.close()\n",
    "\n",
    "result\n"
   ]
  },
  {
   "cell_type": "code",
   "execution_count": null,
   "id": "83511009-b467-40f7-814c-86df86ffe6f0",
   "metadata": {},
   "outputs": [],
   "source": []
  }
 ],
 "metadata": {
  "kernelspec": {
   "display_name": "Python 3 (ipykernel)",
   "language": "python",
   "name": "python3"
  },
  "language_info": {
   "codemirror_mode": {
    "name": "ipython",
    "version": 3
   },
   "file_extension": ".py",
   "mimetype": "text/x-python",
   "name": "python",
   "nbconvert_exporter": "python",
   "pygments_lexer": "ipython3",
   "version": "3.13.5"
  }
 },
 "nbformat": 4,
 "nbformat_minor": 5
}
