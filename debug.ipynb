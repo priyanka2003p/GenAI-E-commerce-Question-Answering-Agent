{
 "cells": [
  {
   "cell_type": "code",
   "execution_count": 1,
   "id": "12378762-37fd-44f0-889d-5d8859ff8e21",
   "metadata": {},
   "outputs": [
    {
     "name": "stdout",
     "output_type": "stream",
     "text": [
      "(0, 'date', 'TEXT', 0, None, 0)\n",
      "(1, 'item_id', 'INTEGER', 0, None, 0)\n",
      "(2, 'total_sales', 'REAL', 0, None, 0)\n",
      "(3, 'total_units_ordered', 'INTEGER', 0, None, 0)\n"
     ]
    }
   ],
   "source": [
    "import sqlite3\n",
    "\n",
    "conn = sqlite3.connect(\"db/ecommerce.db\")\n",
    "cursor = conn.cursor()\n",
    "\n",
    "# Get column names from TotalSales\n",
    "cursor.execute(\"PRAGMA table_info(TotalSales)\")\n",
    "columns = cursor.fetchall()\n",
    "\n",
    "for col in columns:\n",
    "    print(col)\n",
    "\n",
    "conn.close()\n"
   ]
  },
  {
   "cell_type": "code",
   "execution_count": 2,
   "id": "7004ebf1-72c0-44c3-a8f6-b2ed1d782a05",
   "metadata": {},
   "outputs": [
    {
     "name": "stdout",
     "output_type": "stream",
     "text": [
      "(0, 'date', 'TEXT', 0, None, 0)\n",
      "(1, 'item_id', 'INTEGER', 0, None, 0)\n",
      "(2, 'ad_sales', 'REAL', 0, None, 0)\n",
      "(3, 'impressions', 'INTEGER', 0, None, 0)\n",
      "(4, 'ad_spend', 'REAL', 0, None, 0)\n",
      "(5, 'clicks', 'INTEGER', 0, None, 0)\n",
      "(6, 'units_sold', 'INTEGER', 0, None, 0)\n"
     ]
    }
   ],
   "source": [
    "conn = sqlite3.connect(\"db/ecommerce.db\")\n",
    "cursor = conn.cursor()\n",
    "\n",
    "cursor.execute(\"PRAGMA table_info(AdSales)\")\n",
    "columns = cursor.fetchall()\n",
    "\n",
    "for col in columns:\n",
    "    print(col)\n",
    "\n",
    "conn.close()\n"
   ]
  },
  {
   "cell_type": "code",
   "execution_count": null,
   "id": "43df4af2-56e4-4f7c-a5c6-b8fec989893e",
   "metadata": {},
   "outputs": [],
   "source": []
  }
 ],
 "metadata": {
  "kernelspec": {
   "display_name": "Python 3.10",
   "language": "python",
   "name": "python310"
  },
  "language_info": {
   "codemirror_mode": {
    "name": "ipython",
    "version": 3
   },
   "file_extension": ".py",
   "mimetype": "text/x-python",
   "name": "python",
   "nbconvert_exporter": "python",
   "pygments_lexer": "ipython3",
   "version": "3.10.8"
  }
 },
 "nbformat": 4,
 "nbformat_minor": 5
}
